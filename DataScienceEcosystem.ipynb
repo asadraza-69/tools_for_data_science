{
 "cells": [
  {
   "cell_type": "markdown",
   "id": "8ab3d688",
   "metadata": {},
   "source": [
    "# Data Science Tools and Ecosystem"
   ]
  },
  {
   "cell_type": "markdown",
   "id": "cd93d047",
   "metadata": {},
   "source": [
    "#In this notebook, Data Science Tools and Ecosystem are summarized"
   ]
  },
  {
   "cell_type": "markdown",
   "id": "a62e36d1",
   "metadata": {},
   "source": [
    "**Objectives:**"
   ]
  },
  {
   "cell_type": "markdown",
   "id": "224a61b6",
   "metadata": {},
   "source": [
    "- List popular languages for Data Science\n",
    "- Identify commonly used Data Science libraries\n",
    "- Understand the benefits of using Jupyter Notebooks for Data Science\n",
    "- Introduce arithmetic expressions in Python\n",
    "- Introduce basic plotting with matplotlib\n",
    "- Introduce version control with Git and GitHub"
   ]
  },
  {
   "cell_type": "markdown",
   "id": "43285b85",
   "metadata": {},
   "source": [
    "Some of the popular languages that Data Scientists use are:\n",
    "\n",
    "1.Python\n",
    "2.R\n",
    "3.SQL"
   ]
  },
  {
   "cell_type": "markdown",
   "id": "55ba9cd2",
   "metadata": {},
   "source": [
    "Some of the commonly used libraries used by Data Scientists include:\n",
    "\n",
    "1.Pandas\n",
    "2.NumPy\n",
    "3.Scikit-learn\n",
    "4.Matplotlib\n",
    "5.Seaborn\n",
    "6.TensorFlow\n",
    "7.Keras\n",
    "8.PyTorch\n",
    "9.SciPy\n",
    "10.Statsmodels"
   ]
  },
  {
   "cell_type": "markdown",
   "id": "6c8b437f",
   "metadata": {},
   "source": [
    "| Data Science Tools |\n",
    "|--------------------|\n",
    "| Jupyter Notebook   |\n",
    "| RStudio            |\n",
    "| Spyder             |\n"
   ]
  },
  {
   "cell_type": "markdown",
   "id": "f7f666ce",
   "metadata": {},
   "source": [
    "### Below are a few examples of evaluating arithmetic expressions in Python"
   ]
  },
  {
   "cell_type": "markdown",
   "id": "11b56d39",
   "metadata": {},
   "source": [
    " This a simple arithmetic expression to mutiply then add integers"
   ]
  },
  {
   "cell_type": "code",
   "execution_count": 4,
   "id": "f67d1966",
   "metadata": {},
   "outputs": [
    {
     "data": {
      "text/plain": [
       "17"
      ]
     },
     "execution_count": 4,
     "metadata": {},
     "output_type": "execute_result"
    }
   ],
   "source": [
    "(3*4)+5"
   ]
  },
  {
   "cell_type": "markdown",
   "id": "de4c34be",
   "metadata": {},
   "source": [
    "This will convert 200 minutes to hours by diving by 60."
   ]
  },
  {
   "cell_type": "code",
   "execution_count": 5,
   "id": "b7e28693",
   "metadata": {},
   "outputs": [
    {
     "data": {
      "text/plain": [
       "3.3333333333333335"
      ]
     },
     "execution_count": 5,
     "metadata": {},
     "output_type": "execute_result"
    }
   ],
   "source": [
    "200/60"
   ]
  },
  {
   "cell_type": "markdown",
   "id": "427413c9",
   "metadata": {},
   "source": [
    "## Aurthor\n",
    "Muhammad Asad Raza"
   ]
  },
  {
   "cell_type": "code",
   "execution_count": null,
   "id": "0f2f1891",
   "metadata": {},
   "outputs": [],
   "source": []
  }
 ],
 "metadata": {
  "kernelspec": {
   "display_name": "Python 3 (ipykernel)",
   "language": "python",
   "name": "python3"
  },
  "language_info": {
   "codemirror_mode": {
    "name": "ipython",
    "version": 3
   },
   "file_extension": ".py",
   "mimetype": "text/x-python",
   "name": "python",
   "nbconvert_exporter": "python",
   "pygments_lexer": "ipython3",
   "version": "3.11.1"
  }
 },
 "nbformat": 4,
 "nbformat_minor": 5
}
